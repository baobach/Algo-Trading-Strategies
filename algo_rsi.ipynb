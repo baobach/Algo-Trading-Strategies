{
 "cells": [
  {
   "cell_type": "code",
   "execution_count": 7,
   "metadata": {},
   "outputs": [],
   "source": [
    "from fyers_apiv3 import fyersModel\n",
    "import webbrowser\n",
    "import pandas as pd\n",
    "import numpy as np"
   ]
  },
  {
   "cell_type": "code",
   "execution_count": 8,
   "metadata": {},
   "outputs": [],
   "source": [
    "client_id = \"78E30P6HOJ-100\" \n",
    "secret_key = \"0XI8PTVQJY\"\n",
    "redirect_uri = \"https://trade.fyers.in/api-login/redirect-uri/index.html\"\n",
    "response_type = \"code\"\n",
    "grant_type = \"authorization_code\""
   ]
  },
  {
   "cell_type": "code",
   "execution_count": 9,
   "metadata": {},
   "outputs": [],
   "source": [
    "# Create a session object to handle the Fyers API authentication and token generation\n",
    "session = fyersModel.SessionModel(\n",
    "    client_id=client_id,\n",
    "    secret_key=secret_key, \n",
    "    redirect_uri=redirect_uri, \n",
    "    response_type=response_type, \n",
    "    grant_type=grant_type\n",
    ")"
   ]
  },
  {
   "cell_type": "code",
   "execution_count": 10,
   "metadata": {},
   "outputs": [
    {
     "name": "stdout",
     "output_type": "stream",
     "text": [
      "https://api-t1.fyers.in/api/v3/generate-authcode?client_id=78E30P6HOJ-100&redirect_uri=https%3A%2F%2Ftrade.fyers.in%2Fapi-login%2Fredirect-uri%2Findex.html&response_type=code&state=None\n"
     ]
    }
   ],
   "source": [
    "# Generate the auth code using the session model\n",
    "response = session.generate_authcode()\n",
    "\n",
    "# Print the auth code received in the response\n",
    "print(response)\n"
   ]
  },
  {
   "cell_type": "code",
   "execution_count": 11,
   "metadata": {},
   "outputs": [],
   "source": [
    "# The authorization code received from Fyers after the user grants access\n",
    "auth_code = \"eyJ0eXAiOiJKV1QiLCJhbGciOiJIUzI1NiJ9.eyJpc3MiOiJhcGkubG9naW4uZnllcnMuaW4iLCJpYXQiOjE3MDkzNzAyMDcsImV4cCI6MTcwOTQwMDIwNywibmJmIjoxNzA5MzY5NjA3LCJhdWQiOiJbXCJ4OjBcIiwgXCJ4OjFcIiwgXCJ4OjJcIiwgXCJkOjFcIiwgXCJkOjJcIiwgXCJ4OjFcIiwgXCJ4OjBcIl0iLCJzdWIiOiJhdXRoX2NvZGUiLCJkaXNwbGF5X25hbWUiOiJYTTI2MjA2Iiwib21zIjoiSzEiLCJoc21fa2V5IjoiOWI5M2M4NzE0YWIzNzE1ZTc0NzZhOWYxZWQzOWE0Mjc1OTQzZWM4MjZjMWM2NTVlMWFlYTY3NzYiLCJub25jZSI6IiIsImFwcF9pZCI6Ijc4RTMwUDZIT0oiLCJ1dWlkIjoiYjI5YTU4YWZlYjgzNDg5ZTlkNjVhNTQ0NTE2ZTc4ZDQiLCJpcEFkZHIiOiIwLjAuMC4wIiwic2NvcGUiOiIifQ._s6-LZV0TVLYXxgdi9uGRg67EGF0PeVnjK9LFnFgpeU\""
   ]
  },
  {
   "cell_type": "code",
   "execution_count": 12,
   "metadata": {},
   "outputs": [
    {
     "name": "stdout",
     "output_type": "stream",
     "text": [
      "{'s': 'ok', 'code': 200, 'message': '', 'access_token': 'eyJ0eXAiOiJKV1QiLCJhbGciOiJIUzI1NiJ9.eyJpc3MiOiJhcGkuZnllcnMuaW4iLCJpYXQiOjE3MDkzNzAzNTAsImV4cCI6MTcwOTQyNTg1MCwibmJmIjoxNzA5MzcwMzUwLCJhdWQiOlsieDowIiwieDoxIiwieDoyIiwiZDoxIiwiZDoyIiwieDoxIiwieDowIl0sInN1YiI6ImFjY2Vzc190b2tlbiIsImF0X2hhc2giOiJnQUFBQUFCbDR1dnVZV3ptaEFvUDZPT3lsLXJQaHFWVjBQR1RIeC1FdmI5TXQ2YUp5X1ZsZ29BblhjdnlNT1pEQk5hVE5TdTZ4eFhINHpHX2NjYVRZdGFMbE53QmhqTjZzMGRTZUpJZy1XU2pEUFRVaWxCdzRtUT0iLCJkaXNwbGF5X25hbWUiOiJNQU5TT09SIEhBU0hJTSBNSVRIQUlXQUxBIiwib21zIjoiSzEiLCJoc21fa2V5IjoiOWI5M2M4NzE0YWIzNzE1ZTc0NzZhOWYxZWQzOWE0Mjc1OTQzZWM4MjZjMWM2NTVlMWFlYTY3NzYiLCJmeV9pZCI6IlhNMjYyMDYiLCJhcHBUeXBlIjoxMDAsInBvYV9mbGFnIjoiTiJ9.V9WFWsFZCRN9B0J7eXK-09BvmbgSMxDj_7FmNf7VpA4', 'refresh_token': 'eyJ0eXAiOiJKV1QiLCJhbGciOiJIUzI1NiJ9.eyJpc3MiOiJhcGkuZnllcnMuaW4iLCJpYXQiOjE3MDkzNzAzNTAsImV4cCI6MTcxMDYzNTQ1MCwibmJmIjoxNzA5MzcwMzUwLCJhdWQiOlsieDowIiwieDoxIiwieDoyIiwiZDoxIiwiZDoyIiwieDoxIiwieDowIl0sInN1YiI6InJlZnJlc2hfdG9rZW4iLCJhdF9oYXNoIjoiZ0FBQUFBQmw0dXZ1WVd6bWhBb1A2T095bC1yUGhxVlYwUEdUSHgtRXZiOU10NmFKeV9WbGdvQW5YY3Z5TU9aREJOYVROU3U2eHhYSDR6R19jY2FUWXRhTGxOd0Joak42czBkU2VKSWctV1NqRFBUVWlsQnc0bVE9IiwiZGlzcGxheV9uYW1lIjoiTUFOU09PUiBIQVNISU0gTUlUSEFJV0FMQSIsIm9tcyI6IksxIiwiaHNtX2tleSI6IjliOTNjODcxNGFiMzcxNWU3NDc2YTlmMWVkMzlhNDI3NTk0M2VjODI2YzFjNjU1ZTFhZWE2Nzc2IiwiZnlfaWQiOiJYTTI2MjA2IiwiYXBwVHlwZSI6MTAwLCJwb2FfZmxhZyI6Ik4ifQ.55oho70JCRk3P1xqJ3MawjEeerjLsyAHBE4AxzpcVYk'}\n"
     ]
    }
   ],
   "source": [
    "# Set the authorization code in the session object\n",
    "session.set_token(auth_code)\n",
    "\n",
    "# Generate the access token using the authorization code\n",
    "response = session.generate_token()\n",
    "\n",
    "# Print the response, which should contain the access token and other details\n",
    "print(response)"
   ]
  },
  {
   "cell_type": "code",
   "execution_count": 13,
   "metadata": {},
   "outputs": [],
   "source": [
    "df= pd.DataFrame()\n",
    "df = response\n",
    "tk = df['access_token']"
   ]
  },
  {
   "cell_type": "code",
   "execution_count": 14,
   "metadata": {},
   "outputs": [],
   "source": [
    "#initialize the FyersModel instancewith your client_id, access_token, and enable async mode\n",
    "fyers = fyersModel.FyersModel(client_id=client_id, is_async=False, token=tk, log_path=\"\")"
   ]
  },
  {
   "cell_type": "code",
   "execution_count": 15,
   "metadata": {},
   "outputs": [
    {
     "name": "stdout",
     "output_type": "stream",
     "text": [
      "{'s': 'ok', 'code': 200, 'message': '', 'data': {'fy_id': 'XM26206', 'name': 'MANSOOR HASHIM MITHAIWALA', 'image': None, 'display_name': None, 'pin_change_date': '02-09-2022 20:33:15', 'email_id': 'mansoor.mithaiwalaa@gmail.com', 'pwd_change_date': '02-09-2022 20:33:05', 'PAN': '---------', 'mobile_number': '9945560158', 'totp': False, 'pwd_to_expire': -396}}\n"
     ]
    }
   ],
   "source": [
    "# Make a request to get the user profile information\n",
    "response = fyers.get_profile()\n",
    "#Print the response recevied from the fyers api\n",
    "print(response)"
   ]
  },
  {
   "cell_type": "code",
   "execution_count": 19,
   "metadata": {},
   "outputs": [],
   "source": [
    "data = {\n",
    "    \"symbol\":\"NSE:NIFTYBANK-INDEX\",\n",
    "    \"resolution\":\"45\",\n",
    "    \"date_format\":\"1\",\n",
    "    \"range_from\":\"2023-11-10\",\n",
    "    \"range_to\":\"2024-02-14\",\n",
    "}\n",
    "\n",
    "hdata = fyers.history(data)"
   ]
  },
  {
   "cell_type": "code",
   "execution_count": 20,
   "metadata": {},
   "outputs": [
    {
     "data": {
      "text/html": [
       "<div>\n",
       "<style scoped>\n",
       "    .dataframe tbody tr th:only-of-type {\n",
       "        vertical-align: middle;\n",
       "    }\n",
       "\n",
       "    .dataframe tbody tr th {\n",
       "        vertical-align: top;\n",
       "    }\n",
       "\n",
       "    .dataframe thead th {\n",
       "        text-align: right;\n",
       "    }\n",
       "</style>\n",
       "<table border=\"1\" class=\"dataframe\">\n",
       "  <thead>\n",
       "    <tr style=\"text-align: right;\">\n",
       "      <th></th>\n",
       "      <th>Open</th>\n",
       "      <th>High</th>\n",
       "      <th>Low</th>\n",
       "      <th>Close</th>\n",
       "      <th>Volume</th>\n",
       "    </tr>\n",
       "    <tr>\n",
       "      <th>datetime</th>\n",
       "      <th></th>\n",
       "      <th></th>\n",
       "      <th></th>\n",
       "      <th></th>\n",
       "      <th></th>\n",
       "    </tr>\n",
       "  </thead>\n",
       "  <tbody>\n",
       "    <tr>\n",
       "      <th>2023-11-10 09:15:00</th>\n",
       "      <td>43544.4</td>\n",
       "      <td>43608.7</td>\n",
       "      <td>43508.6</td>\n",
       "      <td>43566.1</td>\n",
       "      <td>0</td>\n",
       "    </tr>\n",
       "    <tr>\n",
       "      <th>2023-11-10 10:00:00</th>\n",
       "      <td>43565.5</td>\n",
       "      <td>43674.6</td>\n",
       "      <td>43560.1</td>\n",
       "      <td>43657.7</td>\n",
       "      <td>0</td>\n",
       "    </tr>\n",
       "    <tr>\n",
       "      <th>2023-11-10 10:45:00</th>\n",
       "      <td>43658.2</td>\n",
       "      <td>43736.6</td>\n",
       "      <td>43629.0</td>\n",
       "      <td>43671.3</td>\n",
       "      <td>0</td>\n",
       "    </tr>\n",
       "    <tr>\n",
       "      <th>2023-11-10 11:30:00</th>\n",
       "      <td>43669.6</td>\n",
       "      <td>43711.4</td>\n",
       "      <td>43607.6</td>\n",
       "      <td>43694.8</td>\n",
       "      <td>0</td>\n",
       "    </tr>\n",
       "    <tr>\n",
       "      <th>2023-11-10 12:15:00</th>\n",
       "      <td>43696.8</td>\n",
       "      <td>43785.7</td>\n",
       "      <td>43670.9</td>\n",
       "      <td>43754.6</td>\n",
       "      <td>0</td>\n",
       "    </tr>\n",
       "  </tbody>\n",
       "</table>\n",
       "</div>"
      ],
      "text/plain": [
       "                        Open     High      Low    Close  Volume\n",
       "datetime                                                       \n",
       "2023-11-10 09:15:00  43544.4  43608.7  43508.6  43566.1       0\n",
       "2023-11-10 10:00:00  43565.5  43674.6  43560.1  43657.7       0\n",
       "2023-11-10 10:45:00  43658.2  43736.6  43629.0  43671.3       0\n",
       "2023-11-10 11:30:00  43669.6  43711.4  43607.6  43694.8       0\n",
       "2023-11-10 12:15:00  43696.8  43785.7  43670.9  43754.6       0"
      ]
     },
     "execution_count": 20,
     "metadata": {},
     "output_type": "execute_result"
    }
   ],
   "source": [
    "df = pd.DataFrame.from_dict(hdata['candles'])\n",
    "cols = ['datetime', 'Open', 'High', 'Low', 'Close', 'Volume']\n",
    "df.columns = cols\n",
    "df['datetime'] = pd.to_datetime(df['datetime'], unit='s')\n",
    "\n",
    "df['datetime'] = df['datetime'].dt.tz_localize('utc').dt.tz_convert('Asia/Kolkata')\n",
    "df['datetime'] = df['datetime'].dt.tz_localize(None)\n",
    "\n",
    "df = df.set_index('datetime')\n",
    "\n",
    "df.head(5)"
   ]
  },
  {
   "cell_type": "code",
   "execution_count": null,
   "metadata": {},
   "outputs": [],
   "source": []
  }
 ],
 "metadata": {
  "kernelspec": {
   "display_name": "algo",
   "language": "python",
   "name": "python3"
  },
  "language_info": {
   "codemirror_mode": {
    "name": "ipython",
    "version": 3
   },
   "file_extension": ".py",
   "mimetype": "text/x-python",
   "name": "python",
   "nbconvert_exporter": "python",
   "pygments_lexer": "ipython3",
   "version": "3.10.13"
  }
 },
 "nbformat": 4,
 "nbformat_minor": 2
}
