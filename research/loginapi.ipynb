{
 "cells": [
  {
   "cell_type": "code",
   "execution_count": 9,
   "metadata": {},
   "outputs": [
    {
     "data": {
      "text/plain": [
       "'https://www.google.com/?s=ok&code=200&auth_code=eyJ0eXAiOiJKV1QiLCJhbGciOiJIUzI1NiJ9.eyJpc3MiOiJhcGkubG9naW4uZnllcnMuaW4iLCJpYXQiOjE3MTAwMDYyMTQsImV4cCI6MTcxMDAzNjIxNCwibmJmIjoxNzEwMDA1NjE0LCJhdWQiOiJbXCJ4OjBcIiwgXCJ4OjFcIiwgXCJ4OjJcIiwgXCJkOjFcIiwgXCJkOjJcIiwgXCJ4OjFcIiwgXCJ4OjBcIl0iLCJzdWIiOiJhdXRoX2NvZGUiLCJkaXNwbGF5X25hbWUiOiJYTTI2MjA2Iiwib21zIjoiSzEiLCJoc21fa2V5IjoiODY5NjlhNzZmMGEwMDMyMDZhNDhhMzRiN2QyODQ4Y2YyZTVjOTgwNDFiOWZkMWRiMmU5N2I1ZmEiLCJub25jZSI6IiIsImFwcF9pZCI6Ijc4RTMwUDZIT0oiLCJ1dWlkIjoiNWUyN2E5NzI0YjAxNGI5M2EwNzgyYzk1Mzk5ZjA2M2EiLCJpcEFkZHIiOiIwLjAuMC4wIiwic2NvcGUiOiIifQ.6Iv4lN2qtgUt-_V3hnsyaqCQcNvYuG5go7EtAQnV_u8&state=None'"
      ]
     },
     "execution_count": 9,
     "metadata": {},
     "output_type": "execute_result"
    }
   ],
   "source": [
    "uri='https://www.google.com/?s=ok&code=200&auth_code=eyJ0eXAiOiJKV1QiLCJhbGciOiJIUzI1NiJ9.eyJpc3MiOiJhcGkubG9naW4uZnllcnMuaW4iLCJpYXQiOjE3MTAwMDYyMTQsImV4cCI6MTcxMDAzNjIxNCwibmJmIjoxNzEwMDA1NjE0LCJhdWQiOiJbXCJ4OjBcIiwgXCJ4OjFcIiwgXCJ4OjJcIiwgXCJkOjFcIiwgXCJkOjJcIiwgXCJ4OjFcIiwgXCJ4OjBcIl0iLCJzdWIiOiJhdXRoX2NvZGUiLCJkaXNwbGF5X25hbWUiOiJYTTI2MjA2Iiwib21zIjoiSzEiLCJoc21fa2V5IjoiODY5NjlhNzZmMGEwMDMyMDZhNDhhMzRiN2QyODQ4Y2YyZTVjOTgwNDFiOWZkMWRiMmU5N2I1ZmEiLCJub25jZSI6IiIsImFwcF9pZCI6Ijc4RTMwUDZIT0oiLCJ1dWlkIjoiNWUyN2E5NzI0YjAxNGI5M2EwNzgyYzk1Mzk5ZjA2M2EiLCJpcEFkZHIiOiIwLjAuMC4wIiwic2NvcGUiOiIifQ.6Iv4lN2qtgUt-_V3hnsyaqCQcNvYuG5go7EtAQnV_u8&state=None'\n",
    "uri"
   ]
  },
  {
   "cell_type": "code",
   "execution_count": 10,
   "metadata": {},
   "outputs": [],
   "source": [
    "s1=uri.split('auth_code=')\n",
    "auth=s1[1].split('&state')[0]"
   ]
  },
  {
   "cell_type": "code",
   "execution_count": 11,
   "metadata": {},
   "outputs": [
    {
     "data": {
      "text/plain": [
       "'eyJ0eXAiOiJKV1QiLCJhbGciOiJIUzI1NiJ9.eyJpc3MiOiJhcGkubG9naW4uZnllcnMuaW4iLCJpYXQiOjE3MTAwMDYyMTQsImV4cCI6MTcxMDAzNjIxNCwibmJmIjoxNzEwMDA1NjE0LCJhdWQiOiJbXCJ4OjBcIiwgXCJ4OjFcIiwgXCJ4OjJcIiwgXCJkOjFcIiwgXCJkOjJcIiwgXCJ4OjFcIiwgXCJ4OjBcIl0iLCJzdWIiOiJhdXRoX2NvZGUiLCJkaXNwbGF5X25hbWUiOiJYTTI2MjA2Iiwib21zIjoiSzEiLCJoc21fa2V5IjoiODY5NjlhNzZmMGEwMDMyMDZhNDhhMzRiN2QyODQ4Y2YyZTVjOTgwNDFiOWZkMWRiMmU5N2I1ZmEiLCJub25jZSI6IiIsImFwcF9pZCI6Ijc4RTMwUDZIT0oiLCJ1dWlkIjoiNWUyN2E5NzI0YjAxNGI5M2EwNzgyYzk1Mzk5ZjA2M2EiLCJpcEFkZHIiOiIwLjAuMC4wIiwic2NvcGUiOiIifQ.6Iv4lN2qtgUt-_V3hnsyaqCQcNvYuG5go7EtAQnV_u8'"
      ]
     },
     "execution_count": 11,
     "metadata": {},
     "output_type": "execute_result"
    }
   ],
   "source": [
    "auth"
   ]
  },
  {
   "cell_type": "code",
   "execution_count": 12,
   "metadata": {},
   "outputs": [
    {
     "name": "stdout",
     "output_type": "stream",
     "text": [
      "{'s': 'ok', 'code': 200, 'message': '', 'access_token': 'eyJ0eXAiOiJKV1QiLCJhbGciOiJIUzI1NiJ9.eyJpc3MiOiJhcGkuZnllcnMuaW4iLCJpYXQiOjE3MTAwMDYyNTYsImV4cCI6MTcxMDAzMDYxNiwibmJmIjoxNzEwMDA2MjU2LCJhdWQiOlsieDowIiwieDoxIiwieDoyIiwiZDoxIiwiZDoyIiwieDoxIiwieDowIl0sInN1YiI6ImFjY2Vzc190b2tlbiIsImF0X2hhc2giOiJnQUFBQUFCbDdKX3dnVk5XclFjQU9Pc0lGMnBhV3R0WFl3TUZGSG5zVWdPT3R5WEtQMGowblRDLVJDckdfSEJ1QTdzMlJ0UDEzdms3WTVhQUg4bjRTNzNlRUxzTzhNUHBEX3AyLVVvc3cwbHExNXkwMFNpX0tQST0iLCJkaXNwbGF5X25hbWUiOiJNQU5TT09SIEhBU0hJTSBNSVRIQUlXQUxBIiwib21zIjoiSzEiLCJoc21fa2V5IjoiODY5NjlhNzZmMGEwMDMyMDZhNDhhMzRiN2QyODQ4Y2YyZTVjOTgwNDFiOWZkMWRiMmU5N2I1ZmEiLCJmeV9pZCI6IlhNMjYyMDYiLCJhcHBUeXBlIjoxMDAsInBvYV9mbGFnIjoiTiJ9.FhYF2ZdZAOxUyT4jyH6argbL8YSLyxwSoVnwOvlauI4', 'refresh_token': 'eyJ0eXAiOiJKV1QiLCJhbGciOiJIUzI1NiJ9.eyJpc3MiOiJhcGkuZnllcnMuaW4iLCJpYXQiOjE3MTAwMDYyNTYsImV4cCI6MTcxMTI0MDIxNiwibmJmIjoxNzEwMDA2MjU2LCJhdWQiOlsieDowIiwieDoxIiwieDoyIiwiZDoxIiwiZDoyIiwieDoxIiwieDowIl0sInN1YiI6InJlZnJlc2hfdG9rZW4iLCJhdF9oYXNoIjoiZ0FBQUFBQmw3Sl93Z1ZOV3JRY0FPT3NJRjJwYVd0dFhZd01GRkhuc1VnT090eVhLUDBqMG5UQy1SQ3JHX0hCdUE3czJSdFAxM3ZrN1k1YUFIOG40UzczZUVMc084TVBwRF9wMi1Vb3N3MGxxMTV5MDBTaV9LUEk9IiwiZGlzcGxheV9uYW1lIjoiTUFOU09PUiBIQVNISU0gTUlUSEFJV0FMQSIsIm9tcyI6IksxIiwiaHNtX2tleSI6Ijg2OTY5YTc2ZjBhMDAzMjA2YTQ4YTM0YjdkMjg0OGNmMmU1Yzk4MDQxYjlmZDFkYjJlOTdiNWZhIiwiZnlfaWQiOiJYTTI2MjA2IiwiYXBwVHlwZSI6MTAwLCJwb2FfZmxhZyI6Ik4ifQ.LXH35uvJEWZ2hBd9RyySi7C9FJpHELVC4JUEJAqHQtw'}\n"
     ]
    }
   ],
   "source": [
    "# Import the required module from the fyers_apiv3 package\n",
    "from fyers_apiv3 import fyersModel\n",
    "\n",
    "# Define your Fyers API credentials\n",
    "client_id = '78E30P6HOJ-100' \n",
    "secret_key = '0XI8PTVQJY'\n",
    "redirect_uri = 'https://www.google.com/'\n",
    "response_type = \"code\" \n",
    "grant_type = \"authorization_code\"  \n",
    "\n",
    "# The authorization code received from Fyers after the user grants access\n",
    "auth_code = auth\n",
    "\n",
    "# Create a session object to handle the Fyers API authentication and token generation\n",
    "session = fyersModel.SessionModel(\n",
    "    client_id=client_id,\n",
    "    secret_key=secret_key, \n",
    "    redirect_uri=redirect_uri, \n",
    "    response_type=response_type, \n",
    "    grant_type=grant_type\n",
    ")\n",
    "\n",
    "# Set the authorization code in the session object\n",
    "session.set_token(auth_code)\n",
    "\n",
    "# Generate the access token using the authorization code\n",
    "response = session.generate_token()\n",
    "\n",
    "# Print the response, which should contain the access token and other details\n",
    "print(response)"
   ]
  },
  {
   "cell_type": "code",
   "execution_count": 13,
   "metadata": {},
   "outputs": [
    {
     "data": {
      "text/plain": [
       "'eyJ0eXAiOiJKV1QiLCJhbGciOiJIUzI1NiJ9.eyJpc3MiOiJhcGkuZnllcnMuaW4iLCJpYXQiOjE3MTAwMDYyNTYsImV4cCI6MTcxMDAzMDYxNiwibmJmIjoxNzEwMDA2MjU2LCJhdWQiOlsieDowIiwieDoxIiwieDoyIiwiZDoxIiwiZDoyIiwieDoxIiwieDowIl0sInN1YiI6ImFjY2Vzc190b2tlbiIsImF0X2hhc2giOiJnQUFBQUFCbDdKX3dnVk5XclFjQU9Pc0lGMnBhV3R0WFl3TUZGSG5zVWdPT3R5WEtQMGowblRDLVJDckdfSEJ1QTdzMlJ0UDEzdms3WTVhQUg4bjRTNzNlRUxzTzhNUHBEX3AyLVVvc3cwbHExNXkwMFNpX0tQST0iLCJkaXNwbGF5X25hbWUiOiJNQU5TT09SIEhBU0hJTSBNSVRIQUlXQUxBIiwib21zIjoiSzEiLCJoc21fa2V5IjoiODY5NjlhNzZmMGEwMDMyMDZhNDhhMzRiN2QyODQ4Y2YyZTVjOTgwNDFiOWZkMWRiMmU5N2I1ZmEiLCJmeV9pZCI6IlhNMjYyMDYiLCJhcHBUeXBlIjoxMDAsInBvYV9mbGFnIjoiTiJ9.FhYF2ZdZAOxUyT4jyH6argbL8YSLyxwSoVnwOvlauI4'"
      ]
     },
     "execution_count": 13,
     "metadata": {},
     "output_type": "execute_result"
    }
   ],
   "source": [
    "access_token = response['access_token']\n",
    "access_token"
   ]
  },
  {
   "cell_type": "code",
   "execution_count": 14,
   "metadata": {},
   "outputs": [
    {
     "name": "stdout",
     "output_type": "stream",
     "text": [
      "{'code': 200, 'message': '', 's': 'ok', 'overall': {'count_total': 1, 'pnl_perc': -4.5481, 'total_current_value': 80.8, 'total_investment': 84.65, 'total_pl': -3.8500000000000085}, 'holdings': [{'costPrice': 84.65, 'id': 0, 'fyToken': '101000000011184', 'symbol': 'NSE:IDFCFIRSTB-EQ', 'isin': 'INE092T01019', 'quantity': 1, 'exchange': 10, 'segment': 10, 'qty_t1': 0, 'remainingQuantity': 1, 'collateralQuantity': 0, 'remainingPledgeQuantity': 1, 'pl': -3.8500000000000085, 'ltp': 80.8, 'marketVal': 80.8, 'holdingType': 'HLD'}]}\n"
     ]
    }
   ],
   "source": [
    "# Initialize the FyersModel instance with your client_id, access_token, and enable async mode\n",
    "fyers = fyersModel.FyersModel(client_id=client_id, token=access_token,is_async=False, log_path=\"\")\n",
    "\n",
    "response = fyers.holdings()\n",
    "print(response)"
   ]
  }
 ],
 "metadata": {
  "kernelspec": {
   "display_name": "fyers",
   "language": "python",
   "name": "python3"
  },
  "language_info": {
   "codemirror_mode": {
    "name": "ipython",
    "version": 3
   },
   "file_extension": ".py",
   "mimetype": "text/x-python",
   "name": "python",
   "nbconvert_exporter": "python",
   "pygments_lexer": "ipython3",
   "version": "3.9.18"
  }
 },
 "nbformat": 4,
 "nbformat_minor": 2
}
